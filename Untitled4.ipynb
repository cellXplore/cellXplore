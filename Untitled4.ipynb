{
 "cells": [
  {
   "cell_type": "code",
   "execution_count": 1,
   "id": "03ba3837",
   "metadata": {},
   "outputs": [],
   "source": [
    "import scanpy as sc"
   ]
  },
  {
   "cell_type": "code",
   "execution_count": 2,
   "id": "f9d31911",
   "metadata": {},
   "outputs": [],
   "source": [
    "adata = sc.read(\"/home/olympia/Desktop/tbrucei_cc.h5ad\")"
   ]
  },
  {
   "cell_type": "code",
   "execution_count": 3,
   "id": "afcbc7f6",
   "metadata": {},
   "outputs": [
    {
     "data": {
      "text/plain": [
       "AnnData object with n_obs × n_vars = 13195 × 16851\n",
       "    obs: 'nCount_RNA', 'nFeature_RNA', 'log10GenesPerUMI', 'percent.mt', 'percent.ribo', 'S.Score', 'G2M.Score', 'pANN_0.25_0.09_1466', 'nCount_SCT', 'nFeature_SCT', 'Broad_Cell_Types', 'Cell_Subclusters', 'Infection_Status', 'Cell_Cyle', 'Experimental_Groups', 'Seurat_Clusters', 'Biological_Replicates'\n",
       "    var: 'features'\n",
       "    uns: 'CellPhoneDB_Interactions', 'Cellchat_Interactions'\n",
       "    obsm: 'X_pca', 'X_umap'\n",
       "    varm: 'PCs'"
      ]
     },
     "execution_count": 3,
     "metadata": {},
     "output_type": "execute_result"
    }
   ],
   "source": [
    "adata"
   ]
  },
  {
   "cell_type": "code",
   "execution_count": null,
   "id": "2f15e142",
   "metadata": {},
   "outputs": [],
   "source": []
  }
 ],
 "metadata": {
  "kernelspec": {
   "display_name": "Python 3 (ipykernel)",
   "language": "python",
   "name": "python3"
  },
  "language_info": {
   "codemirror_mode": {
    "name": "ipython",
    "version": 3
   },
   "file_extension": ".py",
   "mimetype": "text/x-python",
   "name": "python",
   "nbconvert_exporter": "python",
   "pygments_lexer": "ipython3",
   "version": "3.8.15"
  }
 },
 "nbformat": 4,
 "nbformat_minor": 5
}
